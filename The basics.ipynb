{
 "cells": [
  {
   "cell_type": "markdown",
   "metadata": {},
   "source": [
    "\"There are three types of lies: lies, damned lies and statistics.\" -- Benjamin Disraeli\n",
    "\n",
    "This quote by Disraeli expresses a common sentiment.  Especially in the biosciences, statistics is often used in a cookie-cutter way to distinguish between significant and insignificant results, but we are all left with a bad taste in our mouth when trying to deeply think about the underlying concepts.\n",
    "I would like to instead pursue the subject of data analysis using a probabilistic approach that was formulated by Bayes (published in 1763) and later refined by Laplace (1812)."
   ]
  },
  {
   "cell_type": "markdown",
   "metadata": {},
   "source": [
    "In Science we are faced with a difficult task.  We are observing the world through experiments but what we would like to derive from this are its laws.  Unfortunately, this task is not only difficult, but it is actually an impossible task.  The reason for this is that there are many possible laws that could explain all the data that we collect.  This is on contrast to mathematical logic, where everything can be derived from a set of axioms.  The mathematician is asking: given a cause, can we work out its consequences? Scientist do the reverse: Given that certain effects have been observed, what are the underlying causes?"
   ]
  }
 ],
 "metadata": {
  "anaconda-cloud": {},
  "kernelspec": {
   "display_name": "Python [conda env:python3]",
   "language": "python",
   "name": "conda-env-python3-py"
  },
  "language_info": {
   "codemirror_mode": {
    "name": "ipython",
    "version": 3
   },
   "file_extension": ".py",
   "mimetype": "text/x-python",
   "name": "python",
   "nbconvert_exporter": "python",
   "pygments_lexer": "ipython3",
   "version": "3.5.2"
  }
 },
 "nbformat": 4,
 "nbformat_minor": 1
}
