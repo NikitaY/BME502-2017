{
 "cells": [
  {
   "cell_type": "markdown",
   "metadata": {},
   "source": [
    "Homework 1\n",
    "\n",
    "Please use the function readcorr to read data from the files that start with BR00781 and calculate the average and the std for each time point.  Remember that corr_fcts[0] represents the time, and corr_fcts[1] is the correlation function.  You need to average over the 20 data sets for each time point. At the end you should have three 1-dimensional arrays: time, corravg, and corrstd.  You then just need to uncomment the last cell and create a semilog plot with error bars.\n",
    "\n",
    "Below, I included some hint on how to solve the problem.  For example, I show how to obtain a list of filenames that you can loop through to read all the data.\n",
    "\n",
    "Good luck"
   ]
  },
  {
   "cell_type": "code",
   "execution_count": 21,
   "metadata": {
    "collapsed": false
   },
   "outputs": [],
   "source": [
    "import os\n",
    "import numpy as np\n",
    "import matplotlib.pyplot as plt"
   ]
  },
  {
   "cell_type": "code",
   "execution_count": null,
   "metadata": {
    "collapsed": true
   },
   "outputs": [],
   "source": [
    "def readcorr(filename):\n",
    "    with open(filename,'r') as f:\n",
    "        for line in f:\n",
    "            if line.startswith(\"[Corr\"):\n",
    "                break\n",
    "        corr_fcts=[]\n",
    "        for line in f:\n",
    "            if line.startswith(\"[Raw\"):\n",
    "                break\n",
    "            corr_fcts.append([float(a) for a in line.split()])\n",
    "    corr_fcts = np.array(corr_fcts[:-1]).T\n",
    "    return corr_fcts"
   ]
  },
  {
   "cell_type": "code",
   "execution_count": 22,
   "metadata": {
    "collapsed": false
   },
   "outputs": [
    {
     "name": "stdout",
     "output_type": "stream",
     "text": [
      "/Users/hstrey/PycharmProjects/BME502-2017\n"
     ]
    }
   ],
   "source": [
    "# get current working directory\n",
    "# use this to see where the data files are\n",
    "print(os.getcwd())"
   ]
  },
  {
   "cell_type": "code",
   "execution_count": 23,
   "metadata": {
    "collapsed": false
   },
   "outputs": [],
   "source": [
    "#defines the location of the data\n",
    "datadir='data files/'"
   ]
  },
  {
   "cell_type": "code",
   "execution_count": 24,
   "metadata": {
    "collapsed": false
   },
   "outputs": [],
   "source": [
    "# get a list of files in this directory\n",
    "filelist=os.listdir(datadir)"
   ]
  },
  {
   "cell_type": "code",
   "execution_count": 25,
   "metadata": {
    "collapsed": false
   },
   "outputs": [
    {
     "name": "stdout",
     "output_type": "stream",
     "text": [
      "['BR00781_01.sin', 'BR00781_02.sin', 'BR00781_03.sin', 'BR00781_04.sin', 'BR00781_05.sin', 'BR00781_06.sin', 'BR00781_07.sin', 'BR00781_08.sin', 'BR00781_09.sin', 'BR00781_10.sin', 'BR00781_11.sin', 'BR00781_12.sin', 'BR00781_13.sin', 'BR00781_14.sin', 'BR00781_15.sin', 'BR00781_16.sin', 'BR00781_17.sin', 'BR00781_18.sin', 'BR00781_19.sin', 'BR00781_20.sin', 'BR01562_01.SIN', 'BR01562_02.SIN', 'BR01562_03.SIN', 'BR01562_04.SIN', 'BR01562_05.SIN', 'BR01562_06.SIN', 'BR01562_07.SIN', 'BR01562_08.SIN', 'BR01562_09.SIN', 'BR01562_10.sin', 'BR01562_11.sin', 'BR01562_12.sin', 'BR01562_13.sin', 'BR01562_14.sin', 'BR01562_15.sin', 'BR01562_16.sin', 'BR01562_17.sin', 'BR01562_18.sin', 'BR01562_19.sin', 'BR01562_20.sin', 'BR03125_01.sin', 'BR03125_02.sin', 'BR03125_03.sin', 'BR03125_04.sin', 'BR03125_05.sin', 'BR03125_06.sin', 'BR03125_07.sin', 'BR03125_08.sin', 'BR03125_09.sin', 'BR03125_10.sin', 'BR03125_11.sin', 'BR03125_12.sin', 'BR03125_13.sin', 'BR03125_14.sin', 'BR03125_15.sin', 'BR03125_16.sin', 'BR03125_17.sin', 'BR03125_18.sin', 'BR03125_19.sin', 'BR03125_20.sin', 'BR06250_01.sin', 'BR06250_02.sin', 'BR06250_03.sin', 'BR06250_04.sin', 'BR06250_05.sin', 'BR06250_06.sin', 'BR06250_07.sin', 'BR06250_08.sin', 'BR06250_09.sin', 'BR06250_10.sin', 'BR06250_11.sin', 'BR06250_12.sin', 'BR06250_13.sin', 'BR06250_14.sin', 'BR06250_15.sin', 'BR06250_16.sin', 'BR06250_17.sin', 'BR06250_18.sin', 'BR06250_19.sin', 'BR06250_20.sin', 'BR12500_01.sin', 'BR12500_02.sin', 'BR12500_03.sin', 'BR12500_04.sin', 'BR12500_05.sin', 'BR12500_06.sin', 'BR12500_07.sin', 'BR12500_08.sin', 'BR12500_09.sin', 'BR12500_10.sin', 'BR12500_11.sin', 'BR12500_12.sin', 'BR12500_13.sin', 'BR12500_14.sin', 'BR12500_15.sin', 'BR12500_16.sin', 'BR12500_17.sin', 'BR12500_18.sin', 'BR12500_19.sin', 'BR12500_20.sin']\n"
     ]
    }
   ],
   "source": [
    "print(filelist)"
   ]
  },
  {
   "cell_type": "code",
   "execution_count": 26,
   "metadata": {
    "collapsed": false
   },
   "outputs": [
    {
     "data": {
      "text/plain": [
       "['BR00781_01.sin',\n",
       " 'BR00781_02.sin',\n",
       " 'BR00781_03.sin',\n",
       " 'BR00781_04.sin',\n",
       " 'BR00781_05.sin',\n",
       " 'BR00781_06.sin',\n",
       " 'BR00781_07.sin',\n",
       " 'BR00781_08.sin',\n",
       " 'BR00781_09.sin',\n",
       " 'BR00781_10.sin',\n",
       " 'BR00781_11.sin',\n",
       " 'BR00781_12.sin',\n",
       " 'BR00781_13.sin',\n",
       " 'BR00781_14.sin',\n",
       " 'BR00781_15.sin',\n",
       " 'BR00781_16.sin',\n",
       " 'BR00781_17.sin',\n",
       " 'BR00781_18.sin',\n",
       " 'BR00781_19.sin',\n",
       " 'BR00781_20.sin']"
      ]
     },
     "execution_count": 26,
     "metadata": {},
     "output_type": "execute_result"
    }
   ],
   "source": [
    "# create a list of files starting with \"BR00781\"\n",
    "BR00781_list = [file for file in filelist if file.startswith(\"BR00781\")]\n",
    "BR00781_list"
   ]
  },
  {
   "cell_type": "code",
   "execution_count": null,
   "metadata": {
    "collapsed": true
   },
   "outputs": [],
   "source": [
    "# insert your code here to read"
   ]
  },
  {
   "cell_type": "code",
   "execution_count": 27,
   "metadata": {
    "collapsed": false
   },
   "outputs": [],
   "source": [
    "%matplotlib inline\n",
    "#plt.figure()\n",
    "#plt.errorbar(time,corravg,yerr=corrstd,fmt=\"or\")\n",
    "#plt.xscale(\"log\")\n",
    "#plt.xlabel(\"delta t in sec\")\n",
    "#plt.ylabel(\"g(t)\")"
   ]
  },
  {
   "cell_type": "code",
   "execution_count": null,
   "metadata": {
    "collapsed": false
   },
   "outputs": [],
   "source": []
  }
 ],
 "metadata": {
  "anaconda-cloud": {},
  "kernelspec": {
   "display_name": "Python [default]",
   "language": "python",
   "name": "python3"
  },
  "language_info": {
   "codemirror_mode": {
    "name": "ipython",
    "version": 3
   },
   "file_extension": ".py",
   "mimetype": "text/x-python",
   "name": "python",
   "nbconvert_exporter": "python",
   "pygments_lexer": "ipython3",
   "version": "3.5.2"
  }
 },
 "nbformat": 4,
 "nbformat_minor": 0
}
