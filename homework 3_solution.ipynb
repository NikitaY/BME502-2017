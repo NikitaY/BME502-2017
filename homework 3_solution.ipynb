{
 "cells": [
  {
   "cell_type": "code",
   "execution_count": 10,
   "metadata": {
    "collapsed": true
   },
   "outputs": [],
   "source": [
    "%matplotlib inline\n",
    "import numpy as np\n",
    "import matplotlib.pyplot as plt\n",
    "from scipy import stats\n",
    "import seaborn as sns"
   ]
  },
  {
   "cell_type": "code",
   "execution_count": 11,
   "metadata": {
    "collapsed": true
   },
   "outputs": [],
   "source": [
    "# box-muller transform\n",
    "# z1 = sqrt(-2 ln x1)*cos(2*pi*x2)\n",
    "# z2 = sqrt(-2 ln x2)*sin(2*pi*x2)\n",
    "def normal_sample(N, mean=0, stddev=1):    \n",
    "    length = (N+1)//2\n",
    "    x1 = np.random.rand(length)\n",
    "    x2 = np.random.rand(length)\n",
    "    z1 = np.sqrt(-2*np.log(x1))*np.cos(2*np.pi*x2)\n",
    "    z2 = np.sqrt(-2*np.log(x1))*np.sin(2*np.pi*x2)\n",
    "    return np.concatenate((z1,z2))[:N]*stddev+mean"
   ]
  },
  {
   "cell_type": "code",
   "execution_count": 12,
   "metadata": {
    "collapsed": false
   },
   "outputs": [
    {
     "name": "stdout",
     "output_type": "stream",
     "text": [
      "2000\n"
     ]
    }
   ],
   "source": [
    "norm_sample = normal_sample(2000,mean=5,stddev=10)\n",
    "print(norm_sample.size)"
   ]
  },
  {
   "cell_type": "code",
   "execution_count": 13,
   "metadata": {
    "collapsed": false
   },
   "outputs": [
    {
     "data": {
      "text/plain": [
       "(array([ 0.00030629,  0.00176114,  0.00581943,  0.01638628,  0.03139427,\n",
       "         0.03805598,  0.03193027,  0.01967885,  0.00666171,  0.00114857]),\n",
       " array([-31.30192889, -24.77207487, -18.24222085, -11.71236683,\n",
       "         -5.18251281,   1.34734122,   7.87719524,  14.40704926,\n",
       "         20.93690328,  27.4667573 ,  33.99661133]),\n",
       " <a list of 10 Patch objects>)"
      ]
     },
     "execution_count": 13,
     "metadata": {},
     "output_type": "execute_result"
    },
    {
     "data": {
      "image/png": "[encoded data removed]",
      "text/plain": [
       "<matplotlib.figure.Figure at 0x11928bef0>"
      ]
     },
     "metadata": {},
     "output_type": "display_data"
    }
   ],
   "source": [
    "plt.hist(norm_sample, normed=True)"
   ]
  },
  {
   "cell_type": "code",
   "execution_count": 14,
   "metadata": {
    "collapsed": false
   },
   "outputs": [
    {
     "name": "stdout",
     "output_type": "stream",
     "text": [
      "mean =  4.87452416779\n",
      "stddev =  10.0390453181\n"
     ]
    }
   ],
   "source": [
    "print(\"mean = \",norm_sample.mean())\n",
    "print(\"stddev = \",norm_sample.std())"
   ]
  },
  {
   "cell_type": "code",
   "execution_count": null,
   "metadata": {
    "collapsed": true
   },
   "outputs": [],
   "source": []
  }
 ],
 "metadata": {
  "anaconda-cloud": {},
  "kernelspec": {
   "display_name": "Python [conda env:python3]",
   "language": "python",
   "name": "conda-env-python3-py"
  },
  "language_info": {
   "codemirror_mode": {
    "name": "ipython",
    "version": 3
   },
   "file_extension": ".py",
   "mimetype": "text/x-python",
   "name": "python",
   "nbconvert_exporter": "python",
   "pygments_lexer": "ipython3",
   "version": "3.5.2"
  }
 },
 "nbformat": 4,
 "nbformat_minor": 1
}
