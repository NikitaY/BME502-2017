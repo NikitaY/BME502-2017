{
 "cells": [
  {
   "cell_type": "markdown",
   "metadata": {},
   "source": [
    "# Midterm\n",
    "put names of your group here.  A maxiumum of three students can be in a group.  The class is allowed to discuss the problem with each other.  I expect one report per group.  Don't copy from each other."
   ]
  },
  {
   "cell_type": "code",
   "execution_count": 6,
   "metadata": {
    "collapsed": true
   },
   "outputs": [],
   "source": [
    "%matplotlib inline\n",
    "import numpy as np\n",
    "import matplotlib.pylab as plt\n",
    "from scipy.stats import chi2"
   ]
  },
  {
   "cell_type": "markdown",
   "metadata": {},
   "source": [
    "In class we discussed a case where the data error exhibited a bi-modal distribution.  We showed that in this case the chi-squared distribution does not follow the theoretical prediction but showed a different distribution."
   ]
  },
  {
   "cell_type": "code",
   "execution_count": 3,
   "metadata": {
    "collapsed": false
   },
   "outputs": [
    {
     "data": {
      "text/plain": [
       "(array([   5.,    7.,   18.,   38.,   65.,   94.,  100.,   76.,   61.,\n",
       "          25.,    7.,    2.,    0.,    0.,    0.,    0.,    0.,    0.,\n",
       "           0.,    0.,    0.,    0.,    0.,    0.,    0.,    0.,    0.,\n",
       "           0.,    0.,    0.,    0.,    0.,    0.,    0.,    0.,    0.,\n",
       "           0.,    2.,    4.,    4.,   14.,   43.,   71.,   97.,   92.,\n",
       "          78.,   57.,   24.,   14.,    2.]),\n",
       " array([-1.32390176, -1.27120794, -1.21851412, -1.16582031, -1.11312649,\n",
       "        -1.06043267, -1.00773886, -0.95504504, -0.90235123, -0.84965741,\n",
       "        -0.79696359, -0.74426978, -0.69157596, -0.63888214, -0.58618833,\n",
       "        -0.53349451, -0.4808007 , -0.42810688, -0.37541306, -0.32271925,\n",
       "        -0.27002543, -0.21733161, -0.1646378 , -0.11194398, -0.05925016,\n",
       "        -0.00655635,  0.04613747,  0.09883128,  0.1515251 ,  0.20421892,\n",
       "         0.25691273,  0.30960655,  0.36230037,  0.41499418,  0.467688  ,\n",
       "         0.52038181,  0.57307563,  0.62576945,  0.67846326,  0.73115708,\n",
       "         0.7838509 ,  0.83654471,  0.88923853,  0.94193235,  0.99462616,\n",
       "         1.04731998,  1.10001379,  1.15270761,  1.20540143,  1.25809524,\n",
       "         1.31078906]),\n",
       " <a list of 50 Patch objects>)"
      ]
     },
     "execution_count": 3,
     "metadata": {},
     "output_type": "execute_result"
    },
    {
     "data": {
      "image/png": "[encoded data removed]",
      "text/plain": [
       "<matplotlib.figure.Figure at 0x10d0f5da0>"
      ]
     },
     "metadata": {},
     "output_type": "display_data"
    }
   ],
   "source": [
    "which_dist=np.random.randint(0,2,size=1000)\n",
    "error=np.where(which_dist,np.random.normal(-1,0.1,1000),np.random.normal(1,0.1,1000))\n",
    "plt.hist(error,bins=50)"
   ]
  },
  {
   "cell_type": "code",
   "execution_count": 4,
   "metadata": {
    "collapsed": true
   },
   "outputs": [],
   "source": [
    "x=np.linspace(-5,5,11)\n",
    "chisq_list=[]\n",
    "for i in range(1000):\n",
    "    a=np.random.randint(0,2,size=11)\n",
    "    error=np.where(a,np.random.normal(-1,0.1,11),np.random.normal(1,0.1,11))\n",
    "    y=2*x+error\n",
    "    p=np.polyfit(x,y,1)\n",
    "    res=y-p[0]*x-p[1]\n",
    "    chisq_list.append(np.sum(res**2))"
   ]
  },
  {
   "cell_type": "code",
   "execution_count": 7,
   "metadata": {
    "collapsed": false
   },
   "outputs": [
    {
     "data": {
      "text/plain": [
       "[<matplotlib.lines.Line2D at 0x1111a0208>]"
      ]
     },
     "execution_count": 7,
     "metadata": {},
     "output_type": "execute_result"
    },
    {
     "data": {
      "image/png": "[encoded data removed]",
      "text/plain": [
       "<matplotlib.figure.Figure at 0x1111a0160>"
      ]
     },
     "metadata": {},
     "output_type": "display_data"
    }
   ],
   "source": [
    "chi=np.linspace(0,50,200)\n",
    "chi2distr=chi2.pdf(chi,9)\n",
    "plt.hist(chisq_list,range=(0,50),bins=50,normed=True)\n",
    "plt.plot(chi,chi2distr)"
   ]
  },
  {
   "cell_type": "markdown",
   "metadata": {},
   "source": [
    "## Midterm Problem:\n",
    "1) Develop a maximum likelihood model for a bi-modal error distribution that is composed of two Gaussian distributions of width $\\sigma$ at a y-distance of $\\pm \\Delta y$ around the real data point.  For this, you need to formulate the likelihood probability distribution of finding a particular dataset $\\{y_{i}\\}$ of N datapoints with this bi-modal error distribution assuming a “true” model $f(x_{i},\\theta)$.  Here I expect an analytic expression.\n",
    "\n",
    "2) Develop a method to fit a straight line through actual data points taken from a line with added bi-modal errors as described in the paragraph above.  Do this by maximizing the likelihood above.  Can you develop a similar procedure as for Gaussian errors (taking the log of the likelihood turns the maximization into a minimization problem)?\n",
    "\n",
    "First try an analytical approach by taking the derivative and trying to find the maximum of the function.  If analytical math is too difficult you may approach the problem using numerical or approximate methods.\n",
    "\n",
    "3) Consider the same scenario as in (1), but instead of fitting to a single line, fit to two parallel lines using a least squares approach (fit parameters should be slope, intercept and Δy). Be very careful how you calculate chi-squared (each data point should only count once).  Please produce a similar graph (Out[7]) to confirm that the fit indeed behaves properly and fits the theoretical chi-squared distribution.\n",
    "\n",
    "Bonus: As bonus, can you solve the full Bayesian problem from (2)\n"
   ]
  },
  {
   "cell_type": "code",
   "execution_count": null,
   "metadata": {
    "collapsed": true
   },
   "outputs": [],
   "source": []
  }
 ],
 "metadata": {
  "anaconda-cloud": {},
  "kernelspec": {
   "display_name": "Python [conda env:python3]",
   "language": "python",
   "name": "conda-env-python3-py"
  },
  "language_info": {
   "codemirror_mode": {
    "name": "ipython",
    "version": 3
   },
   "file_extension": ".py",
   "mimetype": "text/x-python",
   "name": "python",
   "nbconvert_exporter": "python",
   "pygments_lexer": "ipython3",
   "version": "3.5.2"
  }
 },
 "nbformat": 4,
 "nbformat_minor": 1
}
