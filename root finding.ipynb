{
 "cells": [
  {
   "cell_type": "markdown",
   "metadata": {},
   "source": [
    "In this notebook, I want to demonstrate how to find the maximum or minimum of a multivariate function.  To make it simple, I am going to estimate the maximum of a Gaussian.\n",
    "\n",
    "$$P(x \\mid \\mu_{x},\\mu_{y}, \\sigma) = \\frac{1}{{\\sigma^{2}2\\pi }}e^{{{ - \\left( {x - \\mu_{x} } \\right)^2 } /{2\\sigma ^2 }}}e^{{{ - \\left( {y - \\mu_{y} } \\right)^2 } /{2\\sigma ^2 }}}$$\n",
    "\n",
    "We are going to do this numerically using the scipy.optimize.root function to find a two dimensional root.  Lets take the derivatives with respect to x and y.\n",
    "\n",
    "$$\\frac{d}{dx}P(x \\mid \\mu_{x},\\mu_{y}, \\sigma) = \\frac{1}{{\\sigma^{2}2\\pi }}\\frac{2(x-\\mu_x)}{2\\sigma^2}e^{{{ - \\left( {x - \\mu_{x} } \\right)^2 } /{2\\sigma ^2 }}}e^{{{ - \\left( {y - \\mu_{y} } \\right)^2 } /{2\\sigma ^2 }}}$$\n",
    "\n",
    "$$\\frac{d}{dy}P(x \\mid \\mu_{x},\\mu_{y}, \\sigma) = \\frac{1}{{\\sigma^{2}2\\pi }}\\frac{2(y-\\mu_y)}{2\\sigma^2}e^{{{ - \\left( {x - \\mu_{x} } \\right)^2 } /{2\\sigma ^2 }}}e^{{{ - \\left( {y - \\mu_{y} } \\right)^2 } /{2\\sigma ^2 }}}$$\n",
    "\n",
    "The condition for a maximum is that both derivates are zero.  We need to find a combination (x,y) for which both functions are zero.\n",
    "\n",
    "Lets do that in python now.  To make it easier we neglect all constant factors."
   ]
  },
  {
   "cell_type": "code",
   "execution_count": 5,
   "metadata": {
    "collapsed": true
   },
   "outputs": [],
   "source": [
    "import numpy as np\n",
    "import scipy.optimize as sciop"
   ]
  },
  {
   "cell_type": "code",
   "execution_count": 6,
   "metadata": {
    "collapsed": true
   },
   "outputs": [],
   "source": [
    "def gaussian(x,mu,sigma):\n",
    "    return np.exp(-(x-mu)**2/2/sigma**2)"
   ]
  },
  {
   "cell_type": "code",
   "execution_count": 7,
   "metadata": {
    "collapsed": true
   },
   "outputs": [],
   "source": [
    "# create a function that returns a two dimensional vector that contains the derivates with\n",
    "# respect to x and y\n",
    "def derivative(x,mu_x,mu_y,sigma):\n",
    "    x_der=(x[0]-mu_x)*gaussian(x[0],mu_x,sigma)*gaussian(x[1],mu_y,sigma)\n",
    "    y_der=(x[1]-mu_y)*gaussian(x[0],mu_x,sigma)*gaussian(x[1],mu_y,sigma)\n",
    "    return np.array([x_der,y_der])"
   ]
  },
  {
   "cell_type": "code",
   "execution_count": 19,
   "metadata": {
    "collapsed": false
   },
   "outputs": [
    {
     "name": "stdout",
     "output_type": "stream",
     "text": [
      "    fjac: array([[-0.99931949, -0.0368856 ],\n",
      "       [ 0.0368856 , -0.99931949]])\n",
      "     fun: array([ 0.,  0.])\n",
      " message: 'The solution converged.'\n",
      "    nfev: 8\n",
      "     qtf: array([  1.13473954e-10,   1.57312842e-10])\n",
      "       r: array([-0.96136194, -0.06219064, -0.9747291 ])\n",
      "  status: 1\n",
      " success: True\n",
      "       x: array([ 2.,  3.])\n"
     ]
    }
   ],
   "source": [
    "# Now we want to find the maxiumum of P by finding the two-dimensional root of the derivative\n",
    "print(sciop.root(derivative,x0=[0.0,0.0],args=(2.0,3.0,10.0)))"
   ]
  },
  {
   "cell_type": "markdown",
   "metadata": {},
   "source": [
    "The root function returned the $\\mu_x$ and $\\mu_y$ values that I supplied as arguments be careful with numerical solutions.  $x_0$ is the starting value.  If $x_0$ is too far from the maximum then the root function will not be able to find the maximum.  Play around with the values.\n"
   ]
  },
  {
   "cell_type": "code",
   "execution_count": null,
   "metadata": {
    "collapsed": true
   },
   "outputs": [],
   "source": []
  }
 ],
 "metadata": {
  "kernelspec": {
   "display_name": "Python [conda env:python3]",
   "language": "python",
   "name": "conda-env-python3-py"
  },
  "language_info": {
   "codemirror_mode": {
    "name": "ipython",
    "version": 3
   },
   "file_extension": ".py",
   "mimetype": "text/x-python",
   "name": "python",
   "nbconvert_exporter": "python",
   "pygments_lexer": "ipython3",
   "version": "3.5.2"
  }
 },
 "nbformat": 4,
 "nbformat_minor": 1
}
