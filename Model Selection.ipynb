{
 "cells": [
  {
   "cell_type": "markdown",
   "metadata": {},
   "source": [
    "# Model Selection\n",
    "\n",
    "In this chapter we will discuss on how to select between alternative models.  This question often boils down to the question on how many parameters can be supported by a model.  A typical example question would be: How many peaks can we identify in a spectrum?\n",
    "\n",
    "Before we go into the details, we need to formulate our problem in a Bayesian way:\n",
    "Let us assume that we want to compare two models or hypothesis $H_1$ and $H_2$.  The first has no parameters and the second one has one parameter $\\lambda$.  This argument can be generalized to comparing any two theories with different number of parameters.  To tell which hypothesis is the better one we calculate the posterior ratio:\n",
    "\n",
    "$$PR = \\frac{P(H_{1} \\mid D)}{P(H_{2} \\mid D)}$$\n",
    "\n",
    "if PR is greater than one we would prefer $H_1$ over $H_2$, but if PR is on the order unity then the data is not sufficient to make a decision.  We will now use Bayes theorem to get a better sense on how to calculate this ratio.\n",
    "\n",
    "$$\\frac{P(H_{1} \\mid D)}{P(H_{2} \\mid D)}=\\frac{P(D \\mid H_{1})}{P(D \\mid H_{2})}\\frac{P(H_{1})}{P(H_{2})}$$\n",
    "\n",
    "the nice thing about this ratio is that $P(D)$ cancels because it is the same for both hypothesis.  The last ratio is the ratio of priors and we should probably assume it to be of the order unity.  This is unless there is reason to believe that one hypothesis is more likely to be true then the other one.  This leaves the first ratio.  $P(D\\mid H_{1})$ is easy but $P(D\\mid H_{2})$ involves a parameter which we can get to by expressing it as\n",
    "\n",
    "$$P(D \\mid H_{2}) = \\int P(D, \\lambda \\mid H_{2})d\\lambda = \\int P(D \\mid \\lambda, H_{2})P(\\lambda \\mid H_{2})d\\lambda$$\n",
    "\n",
    "$P(D \\mid \\lambda, H_{2})$ is just the likelihood function for hypothesis $H_{2}$ with parameter $\\lambda$. $P(\\lambda \\mid H_{2})$ is the prior an reflects the knowledge of the range of $\\lambda$ that is known before the experiment.\n",
    "\n",
    "Lets now assume that $\\lambda$ must lie between two values $\\lambda_{min}$ and $\\lambda_{max}$ which will assign a uniform prior:\n",
    "\n",
    "$$P(\\lambda \\mid H_{2}) = \\frac{1}{\\lambda_{max}-\\lambda_{min}} \\quad \\textrm{for} \\quad \\lambda_{min} \\le \\lambda \\le \\lambda_{max}$$\n",
    "\n",
    "after the measurement we will find that a particular value of $\\lambda_{0}\\pm \\delta \\lambda$ yields the closest agreement with the data.  The corresponding probability $P(D \\mid \\lambda_{0},H_{2})$ will be the maximum of $H_{2}$'s likelihood function.  Let us also assume that we can represent the full likelihood as a Gaussian:\n",
    "\n",
    "$$P(D \\mid \\lambda, H_{2}) = P(D \\mid \\lambda_{0},H_{2}) \\exp \\Big[ -\\frac{(\\lambda-\\lambda_{0})^2}{2\\delta \\lambda^2} \\Big]$$\n",
    "\n",
    "since the uniform prior does not explicitly depend on $\\lambda$ we can calculate\n",
    "\n",
    "$$P(D \\mid H_{2}) = \\frac{1}{\\lambda_{max}-\\lambda_{min}} \\int_{\\lambda_{min}}^{\\lambda_{max}}P(D \\mid \\lambda, H_{2})$$\n",
    "\n",
    "Assuming that the vast majority of the Gaussian is contained in the prior interval this reduces to:\n",
    "\n",
    "$$P(D \\mid H_{2}) = \\frac{P(D \\mid \\lambda_{0},H_{2})\\delta \\lambda \\sqrt{2\\pi}}{\\lambda_{max}-\\lambda_{min}} $$\n",
    "\n",
    "Finally the posterior ratio can be written using three terms:\n",
    "\n",
    "$$\\frac{P(H_{1} \\mid D)}{P(H_{2} \\mid D)}=\\frac{P(H_{1})}{P(H_{2})}\\frac{P(D \\mid H_{1})}{P(D \\mid \\lambda_{0},H_{2})}\\frac{\\lambda_{max}-\\lambda_{min}}{\\delta \\lambda \\sqrt{2\\pi}}$$\n",
    "\n",
    "the first term is our bias with respect to the two theories (should be unity), the second tells us about how well the two theories fit the data (this should be in favor of $H_{2}$ since it has a free parameter).  The third term can be seen as penalizing the introduction of the parameter.  Since $\\lambda_{max}-\\lambda_{min}$ should, in general, be larger than $\\delta \\lambda \\sqrt{2\\pi}$ this factor is larger than one.  This factor is often called a Ockham factor after the thirteen-century Franciscan monk William of Ockham (or Occam, in Latin) who said \"it is vain to do with more what can be done with fewer\".\n",
    "But instead of blindly applying Ockams razor, we now have a quantitative tool to determine how many paramaters are supported by the data."
   ]
  },
  {
   "cell_type": "code",
   "execution_count": 6,
   "metadata": {
    "collapsed": true
   },
   "outputs": [],
   "source": [
    "%matplotlib inline\n",
    "import numpy as np\n",
    "import matplotlib.pyplot as plt"
   ]
  },
  {
   "cell_type": "code",
   "execution_count": 37,
   "metadata": {
    "collapsed": true
   },
   "outputs": [],
   "source": [
    "x = np.linspace(-5,5,11)\n",
    "ylin = 2*x + 1*x**2 + np.random.normal(0,2,11)"
   ]
  },
  {
   "cell_type": "code",
   "execution_count": 38,
   "metadata": {
    "collapsed": false
   },
   "outputs": [
    {
     "name": "stdout",
     "output_type": "stream",
     "text": [
      "[ 1.83237112  9.61667719]\n",
      "815.489717528 0.0\n",
      "[ 0.95994335  1.83237112  0.01724365]\n",
      "24.8502317559 1.61317496817e-11\n",
      "PR =  inf\n"
     ]
    },
    {
     "name": "stderr",
     "output_type": "stream",
     "text": [
      "/Users/hstrey/anaconda/envs/python3/lib/python3.5/site-packages/ipykernel/__main__.py:15: RuntimeWarning: divide by zero encountered in double_scalars\n"
     ]
    }
   ],
   "source": [
    "p = np.polyfit(x,ylin,1)\n",
    "print(p)\n",
    "ylin_fit = p[0]*x + p[1]\n",
    "res_lin = ylin_fit - ylin\n",
    "chi2_lin = np.sum(res_lin**2)\n",
    "print(chi2_lin,np.exp(-chi2_lin))\n",
    "\n",
    "p2 = np.polyfit(x,ylin,2)\n",
    "print(p2)\n",
    "ylin2_fit = p2[0]*x**2 + p2[1]*x + p2[2]\n",
    "res_lin2 = ylin2_fit - ylin\n",
    "chi2_lin2 = np.sum(res_lin2**2)\n",
    "print(chi2_lin2, np.exp(-chi2_lin2))\n",
    "\n",
    "print(\"PR = \",np.exp(-chi2_lin2)/np.exp(-chi2_lin))"
   ]
  },
  {
   "cell_type": "code",
   "execution_count": 39,
   "metadata": {
    "collapsed": false
   },
   "outputs": [
    {
     "data": {
      "text/plain": [
       "[<matplotlib.lines.Line2D at 0x1103e4f60>]"
      ]
     },
     "execution_count": 39,
     "metadata": {},
     "output_type": "execute_result"
    },
    {
     "data": {
      "image/png": "[encoded data removed]",
      "text/plain": [
       "<matplotlib.figure.Figure at 0x1102e9b38>"
      ]
     },
     "metadata": {},
     "output_type": "display_data"
    }
   ],
   "source": [
    "plt.plot(x,ylin,\"o\")\n",
    "plt.plot(x,ylin_fit)\n",
    "plt.plot(x,ylin2_fit)"
   ]
  },
  {
   "cell_type": "code",
   "execution_count": null,
   "metadata": {
    "collapsed": true
   },
   "outputs": [],
   "source": []
  }
 ],
 "metadata": {
  "anaconda-cloud": {},
  "kernelspec": {
   "display_name": "Python [conda env:python3]",
   "language": "python",
   "name": "conda-env-python3-py"
  },
  "language_info": {
   "codemirror_mode": {
    "name": "ipython",
    "version": 3
   },
   "file_extension": ".py",
   "mimetype": "text/x-python",
   "name": "python",
   "nbconvert_exporter": "python",
   "pygments_lexer": "ipython3",
   "version": "3.5.2"
  }
 },
 "nbformat": 4,
 "nbformat_minor": 1
}
